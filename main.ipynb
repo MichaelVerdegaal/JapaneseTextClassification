{
 "cells": [
  {
   "cell_type": "markdown",
   "source": [
    "# Japanese fake news classification\n",
    "\n",
    "We're going to attempt to classify this dataset. This is a dataset featuring Japanese news articles, from which a part\n",
    "real, some are half fake, and some are entirely fake.\n",
    "\n",
    "0: Original article\n",
    "1: Partially fake\n",
    "2: Completely fake\n",
    "\n",
    "Source: [Japanese fakenews dataset](https://www.kaggle.com/tanreinama/japanese-fakenews-dataset)"
   ],
   "metadata": {
    "collapsed": false,
    "pycharm": {
     "name": "#%% md\n"
    }
   }
  },
  {
   "cell_type": "markdown",
   "source": [
    "## Inspection"
   ],
   "metadata": {
    "collapsed": false,
    "pycharm": {
     "name": "#%% md\n"
    }
   }
  },
  {
   "cell_type": "code",
   "execution_count": 7,
   "metadata": {
    "collapsed": true
   },
   "outputs": [
    {
     "data": {
      "text/plain": "              count        mean         std  min  25%    50%     75%     max\nisfake      13040.0    1.075613    0.796950  0.0  0.0    1.0    2.00     2.0\nnchar_real  13040.0  261.029371  288.257753  0.0  0.0  215.0  407.00  4447.0\nnchar_fake  13040.0  328.273160  354.673240  0.0  0.0  255.0  489.25  2582.0",
      "text/html": "<div>\n<style scoped>\n    .dataframe tbody tr th:only-of-type {\n        vertical-align: middle;\n    }\n\n    .dataframe tbody tr th {\n        vertical-align: top;\n    }\n\n    .dataframe thead th {\n        text-align: right;\n    }\n</style>\n<table border=\"1\" class=\"dataframe\">\n  <thead>\n    <tr style=\"text-align: right;\">\n      <th></th>\n      <th>count</th>\n      <th>mean</th>\n      <th>std</th>\n      <th>min</th>\n      <th>25%</th>\n      <th>50%</th>\n      <th>75%</th>\n      <th>max</th>\n    </tr>\n  </thead>\n  <tbody>\n    <tr>\n      <th>isfake</th>\n      <td>13040.0</td>\n      <td>1.075613</td>\n      <td>0.796950</td>\n      <td>0.0</td>\n      <td>0.0</td>\n      <td>1.0</td>\n      <td>2.00</td>\n      <td>2.0</td>\n    </tr>\n    <tr>\n      <th>nchar_real</th>\n      <td>13040.0</td>\n      <td>261.029371</td>\n      <td>288.257753</td>\n      <td>0.0</td>\n      <td>0.0</td>\n      <td>215.0</td>\n      <td>407.00</td>\n      <td>4447.0</td>\n    </tr>\n    <tr>\n      <th>nchar_fake</th>\n      <td>13040.0</td>\n      <td>328.273160</td>\n      <td>354.673240</td>\n      <td>0.0</td>\n      <td>0.0</td>\n      <td>255.0</td>\n      <td>489.25</td>\n      <td>2582.0</td>\n    </tr>\n  </tbody>\n</table>\n</div>"
     },
     "execution_count": 7,
     "metadata": {},
     "output_type": "execute_result"
    }
   ],
   "source": [
    "import re\n",
    "\n",
    "import pandas as pd\n",
    "import requests\n",
    "from sudachipy import tokenizer, dictionary\n",
    "\n",
    "df = pd.read_csv(\"fakenews.csv\")\n",
    "\n",
    "df.describe().transpose()"
   ]
  },
  {
   "cell_type": "code",
   "execution_count": 8,
   "outputs": [
    {
     "name": "stdout",
     "output_type": "stream",
     "text": [
      "Rows/Columns: (13040, 5)\n",
      "Class distribution is: \n",
      "1    4684\n",
      "2    4671\n",
      "0    3685\n",
      "Name: isfake, dtype: int64\n",
      "\n",
      "id            0\n",
      "context       0\n",
      "isfake        0\n",
      "nchar_real    0\n",
      "nchar_fake    0\n",
      "dtype: int64\n"
     ]
    }
   ],
   "source": [
    "print(f'Rows/Columns: {df.shape}')\n",
    "print(f\"Class distribution is: \\n{df['isfake'].value_counts()}\\n\")\n",
    "print(df.isnull().sum())"
   ],
   "metadata": {
    "collapsed": false,
    "pycharm": {
     "name": "#%%\n"
    }
   }
  },
  {
   "cell_type": "markdown",
   "source": [
    "From what we can see the dataset does not contain null values, and it's class distribution is mostly even.\n",
    "\n",
    "Although mostly even, not perfectly even, so while my first thought was accuracy as a metric, i've decided to use the\n",
    "ROC curve instead."
   ],
   "metadata": {
    "collapsed": false,
    "pycharm": {
     "name": "#%% md\n"
    }
   }
  },
  {
   "cell_type": "code",
   "source": [
    "print(df['context'].head())"
   ],
   "metadata": {
    "collapsed": false,
    "pycharm": {
     "name": "#%%\n"
    }
   },
   "execution_count": 9,
   "outputs": [
    {
     "name": "stdout",
     "output_type": "stream",
     "text": [
      "0    朝日新聞など各社の報道によれば、宅配便最大手「ヤマト運輸」が日本郵政公社を相手取り、大手コン...\n",
      "1    11月5日の各社報道によると、諫早湾干拓事業は諫早海人（諫早湾の「海」）に囲まれる大洋に位置...\n",
      "2    産経新聞、中日新聞によると、2004年から2005年まで、この大会による3年おきの開催を、2...\n",
      "3    開催地のリオデジャネイロ市に対して、大会期間中のリオデジャネイロオリンピックに関する公式発表...\n",
      "4    毎日新聞・時事通信によると、2006年2月13日には、グッドウィル・グッゲンハイム・アン・ハ...\n",
      "Name: context, dtype: object\n"
     ]
    }
   ]
  },
  {
   "cell_type": "markdown",
   "source": [
    "## Preprocessing\n",
    "\n",
    "We can mostly follow the standard NLP cleaning methods, albeit with a catch, it's a character based language, so the\n",
    "traditional packages such as NLTK won't work. That's why we need to find substitutes for the cleaning methods. Let's go\n",
    "over them:\n",
    "\n",
    "I've decided to go with [SudachiPy](https://pypi.org/project/SudachiPy/) for tokenization and stemming\n",
    "[stopwords-ja](https://github.com/stopwords-iso/stopwords-ja/blob/master/stopwords-ja.json) (link to json file) for stopword removal.\n",
    "\n",
    "I decided to not use lemmatization, since there are a lot of words that might _seem_ similar, but are vastly different\n",
    "taking into account their context."
   ],
   "metadata": {
    "collapsed": false,
    "pycharm": {
     "name": "#%% md\n"
    }
   }
  },
  {
   "cell_type": "markdown",
   "source": [
    "### Removing features\n",
    "\n",
    "Everything besides the actual text and the label class is just noise, so we'll take those out."
   ],
   "metadata": {
    "collapsed": false,
    "pycharm": {
     "name": "#%% md\n"
    }
   }
  },
  {
   "cell_type": "code",
   "execution_count": 10,
   "outputs": [],
   "source": [
    "labels = df.pop('isfake')\n",
    "data = df.pop('context')"
   ],
   "metadata": {
    "collapsed": false,
    "pycharm": {
     "name": "#%%\n"
    }
   }
  },
  {
   "cell_type": "markdown",
   "source": [
    "### Tokenization\n",
    "\n",
    "We're going to tokenize our sentences. This we'll do with Sudachi, a morphological analyzer. The short version of\n",
    "what that means is that we're splitting our sentences up into pieces, aka tokens. We need a specialized analyzer for\n",
    "this task, because you can't just randomly split it up by character, because then you'd lose context. After tokenization\n",
    "is complete we can do the rest of the preprocessing steps, which we usually apply individually per character."
   ],
   "metadata": {
    "collapsed": false,
    "pycharm": {
     "name": "#%% md\n"
    }
   }
  },
  {
   "cell_type": "markdown",
   "source": [
    "### Special characters\n",
    "\n",
    "We need to also remove some special characters that will be of no use to the classifier, think of stuff such as commas\n",
    "and question marks, etc. We do this via a regex filter. I spent some time looking for the exactly right one online,\n",
    "since I wanted to keep all japanese characters, but remove junk such as symbols. Speaking of symbols for some reason\n",
    "the Japanese have their own version of them for some reason (。、？  notice how they're different?), which is pretty\n",
    "tricky. While you'd want to remove irrelevant characters, you also don't want to remove all symbols, since some are\n",
    "very important to the language (e.g. ー, which lengthens vowels.).\n",
    "\n",
    "The conclusion here is that you'll have to build your own japanese regex filter to suit your exact needs. Definitely\n",
    "check out [this gist](https://gist.github.com/terrancesnyder/1345094) for that.\n",
    "\n",
    "Check out the pre-processing function below for the specific regex i used."
   ],
   "metadata": {
    "collapsed": false
   }
  },
  {
   "cell_type": "markdown",
   "source": [
    "### Stemming\n",
    "\n",
    "Stemming implies reducing the form of a word to its stem. E.g. 食べている -->　食べる, した　--> する. This is useful to\n",
    "reduce the amount of variants of a word which mostly mean the exact same thing (from the perspective of the model)"
   ],
   "metadata": {
    "collapsed": false,
    "pycharm": {
     "name": "#%% md\n"
    }
   }
  },
  {
   "cell_type": "markdown",
   "source": [
    "### Stopwords\n",
    "\n",
    "Stopword removal implies the removal of certain words which appear in an excessive frequency in the language. Common\n",
    "examples for English are \"the\", \"and\" and so forth. These are useful to remove because they lose meaning viewed\n",
    "individually."
   ],
   "metadata": {
    "collapsed": false
   }
  },
  {
   "cell_type": "code",
   "execution_count": 11,
   "outputs": [
    {
     "name": "stdout",
     "output_type": "stream",
     "text": [
      "朝日新聞など各社の報道によれば、宅配便最大手「ヤマト運輸」が日本郵政公社を相手取り、大手コンビニエンスストア「ローソン」でのサービス提供の差し止めなどを求めていた訴訟で、2006年1月19日、東京地方裁判所でヤマト運輸の請求を棄却する判決が下された。2004年のローソンでの郵便小包サービス「ゆうパック」の受付業務開始に際し、ヤマト運輸は「独占禁止法に違反する不当な廉売」として、日本郵政公社を相手取り、サービス提供の差し止めなどを求めていた。朝日新聞によれば、提訴の内容は、2004年11月のローソンでの「ゆうパック」の受付サービス提供の開始に関連し、租税などの優遇措置を受けている日本郵政公社が、配送料金（運賃）などの有利な取引条件でローソンで「ゆうパック」を開始させたのは、独占禁止法の不当廉売に当たり、ヤマト運輸の利益を侵害されるとして、「ゆうパック」サービス提供の差し止めなどを求めていたもの。朝日新聞によれば、判決内容はヤマト運輸の主張を全面的に否定しており、今後の「ゆうパック」サービスの拡大に弾みがつくものと考えられる。日本郵政公社は、公正妥当な判決とのコメントを出した。一方、ヤマト運輸は、高等裁判所への控訴など、今後の対応については検討するとアナウンスしている。\n",
      "\n",
      "11月5日の各社報道によると、諫早湾干拓事業は諫早海人（諫早湾の「海」）に囲まれる大洋に位置することから、人身売買により、環境問題に加え、環境保護にも関心が向けられた。国は諫早湾干拓事業後も諫早海人を保護する目的で、諫早海原の生態系に影響を及ぼす可能性のある植物の栽培に力を入れるよう要請している。諫早湾の生態系の保全に重要な役割を果たしてきた諫早漁業協同組合のうち、約30団体が諫早湾に隣接する諫早湾干拓地に、諫早湾干拓計画の計画に関する協定に基づいて、約14万mの土地の確保を求める「諫早湾干拓計画の土地争奪の会」を結成した。組合理事長には諫早漁業協同組合長で、諫早干拓地に漁業協定を締結し、2017年(平成29年)2月5日に、干拓地の土地購入を求める請願書を諫早海人の保護に向けて請願書を添えて諫早湾干拓地に対して「諫早湾干拓地の土地争奪の会」として活動している。\n",
      "\n",
      "産経新聞、中日新聞によると、2004年から2005年まで、この大会による3年おきの開催を、2006年から2年連続で実施したことがある。また、2月9日の中日戦（日本ハム対阪神）において、先発投手の投手コーチだった岡田彰布が13日夕方（12時前）に体調不良を訴えたため、14日の1st第2戦（4月2日）では、6－1と大勝し大接戦を演じたが、このことを後に岡田は「岡田のファンが応援してくれなかった」とコメント。この試合から野球振興会は第2戦の開催を断念し、2008年から4月まで、第1戦、第2戦が屋内試合となった。\n",
      "\n"
     ]
    }
   ],
   "source": [
    "def sample(data, limit=3):\n",
    "    \"\"\"\n",
    "    Quick util method to display samples of the sentences\n",
    "    :param data: collection\n",
    "    :param limit: how much samples to show\n",
    "    \"\"\"\n",
    "    for x in range(0, limit, 1):\n",
    "        print(f\"{data[x]}\\n\")\n",
    "\n",
    "\n",
    "sample(data)"
   ],
   "metadata": {
    "collapsed": false,
    "pycharm": {
     "name": "#%%\n"
    }
   }
  },
  {
   "cell_type": "code",
   "execution_count": 12,
   "outputs": [
    {
     "name": "stdout",
     "output_type": "stream",
     "text": [
      "Starting cleaning phase, this may take a few minutes...\n",
      "朝日新聞 各社 報道 よる 宅配便 最大手 ヤマト 運輸 日本郵政 公社 相手 取る 大手 コンビニエンスストアローソン サービス 提供 差し止め 求める 訴訟 2006 年 1 月 19 日 東京 地方裁判所 ヤマト 運輸 請求 棄却 判決 下す 2004 年 ローソン 郵便 小包 サービス ゆう パック 受付 業務 開始 際する ヤマト 運輸 独占禁止法 違反 不当 廉売 日本郵政 公社 相手 取る サービス 提供 差し止め 求める 朝日新聞 よる 提訴 内容 2004 年 11 月 ローソン ゆう パック 受付 サービス 提供 開始 関連 租税 優遇措置 受ける 日本郵政 公社 配送 料金 運賃 有利 取引 条件 ローソン ゆう パック 開始 独占禁止法 不当廉売 当たる ヤマト 運輸 利益 侵害 ゆう パック サービス 提供 差し止め 求める 朝日新聞 よる 判決 内容 ヤマト 運輸 主張 全面的 否定 おる 今後 ゆう パック サービス 拡大 弾み つく 考える 日本郵政 公社 公正 妥当 判決 コメント 出す 一方 ヤマト 運輸 高等裁判所 控訴 今後 対応 つく 検討 アナウンス\n",
      "\n",
      "11 月 5 日 各社 報道 よる 諫早湾 干拓 事業 諫早 海人 諫早湾 海 囲む 大洋 位置 人身 売買 よる 環境 問題 加える 環境 保護 関心 向ける 国 諫早湾 干拓 事業 後 諫早 海人 保護 目的 諫早 海原 生態系 影響 及ぼす 可能性 植物 栽培 力 入れる 要請 諫早湾 生態系 保全 重要 役割 果たす くる 諫早 漁業協同組合 約 30 団体 諫早湾 隣接 諫早湾 干拓地 諫早湾 干拓 計画 計画 関する 協定 基づく 約 14万 m 土地 確保 求める 諫早湾 干拓 計画 土地 争奪 会 結成 組合 理事長 諫早 漁業協同組合 長 諫早 干拓地 漁業 協定 締結 2017 年 平成 29 年 2 月 5 日 干拓地 土地 購入 求める 請願書 諫早 海人 保護 向ける 請願書 添える 諫早湾 干拓地 対する 諫早湾 干拓地 土地 争奪 会 活動\n",
      "\n",
      "産経 新聞 中日 新聞 よる 2004 年 2005 年 大会 よる 3 年 おき 開催 2006 年 2 年 連続 実施 2 月 9 日 中日 戦 日本ハム 対 阪神 おく 先発 投手 投手 コーチ 岡田 彰布 13 日 夕方 12 時 前 体調不良 訴える 14 日 1 ST 第 2 戦 4 月 2 日 61 大勝 大 接戦 演ずる 後 岡田 岡田 ファン 応援 くれる コメント 試合 野球 振興会 第 2 戦 開催 断念 2008 年 4 月 第 1 戦 第 2 戦 屋内 試合\n",
      "\n",
      "開催地 リオデジャネイロ 市 対する 大会 期間中 リオデジャネイロ オリンピック 関する 公式 発表 リオデジャネイロ オリンピック 開催 向ける 大会 会場 準備 整える 現状 結果 オリンピック 公式 イベント リオデジャネイロ ホテル 各種 ショップ リオデジャネイロ オリンピック 記念 パーティーリオデジャネイロオリンピック 応援 パーティー 13 日 オープン 中 13 日 以降 リオデジャネイロ ホテル リオデジャネイロ オリンピック 応援 パーティー 5 日 リオデジャネイロ オリンピック シンボル プロモーション 開催 後 リオデジャネイロ 市 リオデジャネイロ オリンピック 公式 式典 18 日 開催 リオデジャネイロ オリンピック 実施 つく 公式 発表 19 日 大会 組織 委員会 大会 直前 リオデジャネイロ 市長 リオデジャネイロ 市 1 か月 予定 リオデジャネイロ オリンピック 開催 中止 理由 1 掲げる 検討 発表 リオデジャネイロ オリンピック 公式 試合 リオデジャネイロ 以外 大会 リオデジャネイロ オリンピック テーマ イベント 多数 設置 リオデジャネイロ オリンピック 開催 2020 年 第 1 都市 リオデジャネイロ オリンピック 関係者 リオデジャネイロ オリンピック 参加 アスリート オリンピック イベント 通す リオデジャネイロ 行く 悪い 思う\n",
      "\n",
      "毎日 新聞 時事 通信 よる 2006 年 2 月 13 日 グッドウィルグッゲンハイムアンハルク 経営 ジャーナリスト フリー ライター ジャーナリスト 日本 政府 幹部 派遣 事業 管理 体制 とても 曖昧 可能性 派遣 事業 管理 体制 整える 派遣 事業 行う 社員 不当 賃金 上げる 恐れ 非難 あがる 2009 年 8 月 29 日 NHK 総合 テレビジョンクロ ちゃん 事態 関する グッドウィル 全く 悪 印象 付く 主張\n",
      "\n"
     ]
    }
   ],
   "source": [
    "def pre_process_text(text, stopwords, tokenizer_obj):\n",
    "    \"\"\"\n",
    "    Cleans the text of unnecessary features\n",
    "    :param text: sentence to clean\n",
    "    :param stopwords: list of very commonly used words\n",
    "    :param tokenizer_obj: SudachiPy tokenizer object\n",
    "    :return: cleaned string\n",
    "    \"\"\"\n",
    "    # One by one: (kanji), (hiragana and katakana), (western alphabet and numbers), (western alphabet and numbers\n",
    "    # except it's the off-looking japanese version), and unicode flag\n",
    "    pattern = re.compile(r'([一-龯]+)|([ぁ-んァ-ン]+)|([a-zA-Z0-9]+)|([ａ-ｚＡ-Ｚ０-９]+)|[ー+]', re.UNICODE)\n",
    "    text = ''.join([x.group() for x in re.finditer(pattern, text.lower().strip())])\n",
    "\n",
    "    lst_text = [m.dictionary_form() for m in tokenizer_obj.tokenize(text, mode)]\n",
    "\n",
    "    # Remove Stopwords\n",
    "    lst_text = [word for word in lst_text if word not in stopwords]\n",
    "\n",
    "    # Rejoin tokenized string\n",
    "    text = \" \".join(lst_text)\n",
    "    return text\n",
    "\n",
    "\n",
    "tokenizer_obj = dictionary.Dictionary().create()\n",
    "mode = tokenizer.Tokenizer.SplitMode.C\n",
    "lst_stopwords = requests.get(\n",
    "    'https://raw.githubusercontent.com/stopwords-iso/stopwords-ja/master/stopwords-ja.json').json()\n",
    "\n",
    "print(\"Starting cleaning phase, this may take a few minutes...\")\n",
    "data = [pre_process_text(i, lst_stopwords, tokenizer_obj) for i in data]\n",
    "sample(data, 5)"
   ],
   "metadata": {
    "collapsed": false,
    "pycharm": {
     "name": "#%%\n"
    }
   }
  },
  {
   "cell_type": "markdown",
   "source": [
    "## NLP technique\n",
    "\n",
    "Now we need to choose a technique to actually process this text, because after all, our neural network only accepts\n",
    "numbers, not japanese characters. Some examples of the current most popular techniques are Bag of Words, TF_IDF Scheme,\n",
    "BERT, word2vec.\n",
    "\n",
    "I've decided to use word2vec here, which maps words and/or phrases to vectors. word2vec comes with 2 options, Skip Gram\n",
    "and Continuous Bag of Words, which are essentially mirrored versions of each other. CBOW is trained to predict a single\n",
    "word from multiple context words, SG is trained to predict multiple words from a single context word."
   ],
   "metadata": {
    "collapsed": false,
    "pycharm": {
     "name": "#%% md\n"
    }
   }
  },
  {
   "cell_type": "code",
   "execution_count": null,
   "outputs": [],
   "source": [],
   "metadata": {
    "collapsed": false,
    "pycharm": {
     "name": "#%%\n"
    }
   }
  },
  {
   "cell_type": "markdown",
   "source": [
    "## Conclusion\n",
    "\n",
    "Package wise, we still have a long way to go. The Japanese equivalents of the NLP packages are more underveloped,\n",
    "less reliable, and generally slower too. This can be mostly attributed to the language being difficult, but it's\n",
    "something you have to keep in mind while working with Japanese text. Maybe in a few years the tools will be at a good\n",
    "level.\n"
   ],
   "metadata": {
    "collapsed": false,
    "pycharm": {
     "name": "#%% md\n"
    }
   }
  },
  {
   "cell_type": "markdown",
   "source": [
    "## References\n",
    "\n",
    "[Preprocessing Methods and Tools in Modelling Japanese for Text Classification](https://www.researchgate.net/publication/335337209_Preprocessing_Methods_and_Tools_in_Modelling_Japanese_for_Text_Classification)\n",
    "Paper detailing tools for Japanese NLP analysis. A few years old, but still relevant as of current date.\n",
    "\n",
    "[nlp-recipes-ja](https://github.com/upura/nlp-recipes-ja)\n",
    "Github repository containing a ton of samples for Japanese text analysis in Python.\n"
   ],
   "metadata": {
    "collapsed": false,
    "pycharm": {
     "name": "#%% md\n"
    }
   }
  }
 ],
 "metadata": {
  "kernelspec": {
   "display_name": "Python 3",
   "language": "python",
   "name": "python3"
  },
  "language_info": {
   "codemirror_mode": {
    "name": "ipython",
    "version": 2
   },
   "file_extension": ".py",
   "mimetype": "text/x-python",
   "name": "python",
   "nbconvert_exporter": "python",
   "pygments_lexer": "ipython2",
   "version": "2.7.6"
  }
 },
 "nbformat": 4,
 "nbformat_minor": 0
}