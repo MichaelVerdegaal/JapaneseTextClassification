{
 "cells": [
  {
   "cell_type": "markdown",
   "source": [
    "# Japanese fake news classification\n",
    "\n",
    "We're going to attempt to classify this dataset. This is a dataset featuring Japanese news articles, from which a part\n",
    "real, some are half fake, and some are entirely fake.\n",
    "\n",
    "0: Original article\n",
    "1: Partially fake\n",
    "2: Completely fake\n",
    "\n",
    "Source: [Japanese fakenews dataset](https://www.kaggle.com/tanreinama/japanese-fakenews-dataset)"
   ],
   "metadata": {
    "collapsed": false,
    "pycharm": {
     "name": "#%% md\n"
    }
   }
  },
  {
   "cell_type": "markdown",
   "source": [
    "## Inspection"
   ],
   "metadata": {
    "collapsed": false,
    "pycharm": {
     "name": "#%% md\n"
    }
   }
  },
  {
   "cell_type": "code",
   "execution_count": 30,
   "metadata": {
    "collapsed": true
   },
   "outputs": [
    {
     "data": {
      "text/plain": "              count        mean         std  min  25%    50%     75%     max\nisfake      13040.0    1.075613    0.796950  0.0  0.0    1.0    2.00     2.0\nnchar_real  13040.0  261.029371  288.257753  0.0  0.0  215.0  407.00  4447.0\nnchar_fake  13040.0  328.273160  354.673240  0.0  0.0  255.0  489.25  2582.0",
      "text/html": "<div>\n<style scoped>\n    .dataframe tbody tr th:only-of-type {\n        vertical-align: middle;\n    }\n\n    .dataframe tbody tr th {\n        vertical-align: top;\n    }\n\n    .dataframe thead th {\n        text-align: right;\n    }\n</style>\n<table border=\"1\" class=\"dataframe\">\n  <thead>\n    <tr style=\"text-align: right;\">\n      <th></th>\n      <th>count</th>\n      <th>mean</th>\n      <th>std</th>\n      <th>min</th>\n      <th>25%</th>\n      <th>50%</th>\n      <th>75%</th>\n      <th>max</th>\n    </tr>\n  </thead>\n  <tbody>\n    <tr>\n      <th>isfake</th>\n      <td>13040.0</td>\n      <td>1.075613</td>\n      <td>0.796950</td>\n      <td>0.0</td>\n      <td>0.0</td>\n      <td>1.0</td>\n      <td>2.00</td>\n      <td>2.0</td>\n    </tr>\n    <tr>\n      <th>nchar_real</th>\n      <td>13040.0</td>\n      <td>261.029371</td>\n      <td>288.257753</td>\n      <td>0.0</td>\n      <td>0.0</td>\n      <td>215.0</td>\n      <td>407.00</td>\n      <td>4447.0</td>\n    </tr>\n    <tr>\n      <th>nchar_fake</th>\n      <td>13040.0</td>\n      <td>328.273160</td>\n      <td>354.673240</td>\n      <td>0.0</td>\n      <td>0.0</td>\n      <td>255.0</td>\n      <td>489.25</td>\n      <td>2582.0</td>\n    </tr>\n  </tbody>\n</table>\n</div>"
     },
     "execution_count": 30,
     "metadata": {},
     "output_type": "execute_result"
    }
   ],
   "source": [
    "import re\n",
    "\n",
    "import pandas as pd\n",
    "import requests\n",
    "from sudachipy import tokenizer, dictionary\n",
    "from gensim.models import KeyedVectors\n",
    "from tensorflow.keras import Sequential\n",
    "from tensorflow.keras.layers import Dense, Embedding, Flatten, Bidirectional, LSTM\n",
    "from tensorflow.keras.preprocessing.text import Tokenizer\n",
    "from tensorflow.keras.preprocessing.sequence import pad_sequences\n",
    "from sklearn.model_selection import train_test_split\n",
    "\n",
    "df = pd.read_csv(\"fakenews.csv\")\n",
    "df.describe().transpose()"
   ]
  },
  {
   "cell_type": "code",
   "execution_count": 2,
   "outputs": [
    {
     "name": "stdout",
     "output_type": "stream",
     "text": [
      "Rows/Columns: (13040, 5)\n",
      "Class distribution is: \n",
      "1    4684\n",
      "2    4671\n",
      "0    3685\n",
      "Name: isfake, dtype: int64\n",
      "\n",
      "id            0\n",
      "context       0\n",
      "isfake        0\n",
      "nchar_real    0\n",
      "nchar_fake    0\n",
      "dtype: int64\n"
     ]
    }
   ],
   "source": [
    "print(f'Rows/Columns: {df.shape}')\n",
    "print(f\"Class distribution is: \\n{df['isfake'].value_counts()}\\n\")\n",
    "print(df.isnull().sum())"
   ],
   "metadata": {
    "collapsed": false,
    "pycharm": {
     "name": "#%%\n"
    }
   }
  },
  {
   "cell_type": "markdown",
   "source": [
    "From what we can see the dataset does not contain null values, and it's class distribution is mostly even.\n",
    "\n",
    "Although mostly even, not perfectly even, so while my first thought was accuracy as a metric, i've decided to use the\n",
    "ROC curve instead."
   ],
   "metadata": {
    "collapsed": false,
    "pycharm": {
     "name": "#%% md\n"
    }
   }
  },
  {
   "cell_type": "code",
   "source": [
    "print(df['context'].head())"
   ],
   "metadata": {
    "collapsed": false,
    "pycharm": {
     "name": "#%%\n"
    }
   },
   "execution_count": 3,
   "outputs": [
    {
     "name": "stdout",
     "output_type": "stream",
     "text": [
      "0    朝日新聞など各社の報道によれば、宅配便最大手「ヤマト運輸」が日本郵政公社を相手取り、大手コン...\n",
      "1    11月5日の各社報道によると、諫早湾干拓事業は諫早海人（諫早湾の「海」）に囲まれる大洋に位置...\n",
      "2    産経新聞、中日新聞によると、2004年から2005年まで、この大会による3年おきの開催を、2...\n",
      "3    開催地のリオデジャネイロ市に対して、大会期間中のリオデジャネイロオリンピックに関する公式発表...\n",
      "4    毎日新聞・時事通信によると、2006年2月13日には、グッドウィル・グッゲンハイム・アン・ハ...\n",
      "Name: context, dtype: object\n"
     ]
    }
   ]
  },
  {
   "cell_type": "markdown",
   "source": [
    "## Preprocessing\n",
    "\n",
    "We can mostly follow the standard NLP cleaning methods, albeit with a catch, it's a character based language, so the\n",
    "traditional packages such as NLTK won't work. That's why we need to find substitutes for the cleaning methods. Let's go\n",
    "over them:\n",
    "\n",
    "I've decided to go with [SudachiPy](https://pypi.org/project/SudachiPy/) for tokenization and stemming\n",
    "[stopwords-ja](https://github.com/stopwords-iso/stopwords-ja/blob/master/stopwords-ja.json) (link to json file) for stopword removal.\n",
    "\n",
    "I decided to not use lemmatization, since there are a lot of words that might _seem_ similar, but are vastly different\n",
    "taking into account their context."
   ],
   "metadata": {
    "collapsed": false,
    "pycharm": {
     "name": "#%% md\n"
    }
   }
  },
  {
   "cell_type": "markdown",
   "source": [
    "### Removing features\n",
    "\n",
    "Everything besides the actual text and the label class is just noise, so we'll take those out."
   ],
   "metadata": {
    "collapsed": false,
    "pycharm": {
     "name": "#%% md\n"
    }
   }
  },
  {
   "cell_type": "code",
   "execution_count": 4,
   "outputs": [],
   "source": [
    "labels = df.pop('isfake')\n",
    "data = df.pop('context')"
   ],
   "metadata": {
    "collapsed": false,
    "pycharm": {
     "name": "#%%\n"
    }
   }
  },
  {
   "cell_type": "markdown",
   "source": [
    "### Tokenization\n",
    "\n",
    "We're going to tokenize our sentences. This we'll do with Sudachi, a morphological analyzer. The short version of\n",
    "what that means is that we're splitting our sentences up into pieces, aka tokens. We need a specialized analyzer for\n",
    "this task, because you can't just randomly split it up by character, because then you'd lose context. After tokenization\n",
    "is complete we can do the rest of the preprocessing steps, which we usually apply individually per character."
   ],
   "metadata": {
    "collapsed": false,
    "pycharm": {
     "name": "#%% md\n"
    }
   }
  },
  {
   "cell_type": "markdown",
   "source": [
    "### Special characters\n",
    "\n",
    "We need to also remove some special characters that will be of no use to the classifier, think of stuff such as commas\n",
    "and question marks, etc. We do this via a regex filter. I spent some time looking for the exactly right one online,\n",
    "since I wanted to keep all japanese characters, but remove junk such as symbols. Speaking of symbols for some reason\n",
    "the Japanese have their own version of them for some reason (。、？  notice how they're different?), which is pretty\n",
    "tricky. While you'd want to remove irrelevant characters, you also don't want to remove all symbols, since some are\n",
    "very important to the language (e.g. ー, which lengthens vowels.).\n",
    "\n",
    "The conclusion here is that you'll have to build your own japanese regex filter to suit your exact needs. Definitely\n",
    "check out [this gist](https://gist.github.com/terrancesnyder/1345094) for that.\n",
    "\n",
    "Check out the pre-processing function below for the specific regex i used."
   ],
   "metadata": {
    "collapsed": false
   }
  },
  {
   "cell_type": "markdown",
   "source": [
    "### Stemming\n",
    "\n",
    "Stemming implies reducing the form of a word to its stem. E.g. 食べている -->　食べる, した　--> する. This is useful to\n",
    "reduce the amount of variants of a word which mostly mean the exact same thing (from the perspective of the model)"
   ],
   "metadata": {
    "collapsed": false,
    "pycharm": {
     "name": "#%% md\n"
    }
   }
  },
  {
   "cell_type": "markdown",
   "source": [
    "### Stopwords\n",
    "\n",
    "Stopword removal implies the removal of certain words which appear in an excessive frequency in the language. Common\n",
    "examples for English are \"the\", \"and\" and so forth. These are useful to remove because they lose meaning viewed\n",
    "individually."
   ],
   "metadata": {
    "collapsed": false
   }
  },
  {
   "cell_type": "code",
   "execution_count": 5,
   "outputs": [
    {
     "name": "stdout",
     "output_type": "stream",
     "text": [
      "朝日新聞など各社の報道によれば、宅配便最大手「ヤマト運輸」が日本郵政公社を相手取り、大手コンビニエンスストア「ローソン」でのサービス提供の差し止めなどを求めていた訴訟で、2006年1月19日、東京地方裁判所でヤマト運輸の請求を棄却する判決が下された。2004年のローソンでの郵便小包サービス「ゆうパック」の受付業務開始に際し、ヤマト運輸は「独占禁止法に違反する不当な廉売」として、日本郵政公社を相手取り、サービス提供の差し止めなどを求めていた。朝日新聞によれば、提訴の内容は、2004年11月のローソンでの「ゆうパック」の受付サービス提供の開始に関連し、租税などの優遇措置を受けている日本郵政公社が、配送料金（運賃）などの有利な取引条件でローソンで「ゆうパック」を開始させたのは、独占禁止法の不当廉売に当たり、ヤマト運輸の利益を侵害されるとして、「ゆうパック」サービス提供の差し止めなどを求めていたもの。朝日新聞によれば、判決内容はヤマト運輸の主張を全面的に否定しており、今後の「ゆうパック」サービスの拡大に弾みがつくものと考えられる。日本郵政公社は、公正妥当な判決とのコメントを出した。一方、ヤマト運輸は、高等裁判所への控訴など、今後の対応については検討するとアナウンスしている。\n",
      "\n",
      "11月5日の各社報道によると、諫早湾干拓事業は諫早海人（諫早湾の「海」）に囲まれる大洋に位置することから、人身売買により、環境問題に加え、環境保護にも関心が向けられた。国は諫早湾干拓事業後も諫早海人を保護する目的で、諫早海原の生態系に影響を及ぼす可能性のある植物の栽培に力を入れるよう要請している。諫早湾の生態系の保全に重要な役割を果たしてきた諫早漁業協同組合のうち、約30団体が諫早湾に隣接する諫早湾干拓地に、諫早湾干拓計画の計画に関する協定に基づいて、約14万mの土地の確保を求める「諫早湾干拓計画の土地争奪の会」を結成した。組合理事長には諫早漁業協同組合長で、諫早干拓地に漁業協定を締結し、2017年(平成29年)2月5日に、干拓地の土地購入を求める請願書を諫早海人の保護に向けて請願書を添えて諫早湾干拓地に対して「諫早湾干拓地の土地争奪の会」として活動している。\n",
      "\n",
      "産経新聞、中日新聞によると、2004年から2005年まで、この大会による3年おきの開催を、2006年から2年連続で実施したことがある。また、2月9日の中日戦（日本ハム対阪神）において、先発投手の投手コーチだった岡田彰布が13日夕方（12時前）に体調不良を訴えたため、14日の1st第2戦（4月2日）では、6－1と大勝し大接戦を演じたが、このことを後に岡田は「岡田のファンが応援してくれなかった」とコメント。この試合から野球振興会は第2戦の開催を断念し、2008年から4月まで、第1戦、第2戦が屋内試合となった。\n",
      "\n"
     ]
    }
   ],
   "source": [
    "def sample(data, limit=3):\n",
    "    \"\"\"\n",
    "    Quick util method to display samples of the sentences\n",
    "    :param data: collection\n",
    "    :param limit: how much samples to show\n",
    "    \"\"\"\n",
    "    for x in range(0, limit, 1):\n",
    "        print(f\"{data[x]}\\n\")\n",
    "\n",
    "\n",
    "sample(data)"
   ],
   "metadata": {
    "collapsed": false,
    "pycharm": {
     "name": "#%%\n"
    }
   }
  },
  {
   "cell_type": "code",
   "execution_count": 6,
   "outputs": [
    {
     "name": "stdout",
     "output_type": "stream",
     "text": [
      "Starting cleaning phase, this may take a few minutes...\n",
      "朝日新聞 など 各社 の 報道 に よる ば 宅配便 最大手 ヤマト 運輸 が 日本郵政 公社 を 相手 取る 大手 コンビニエンスストアローソン で の サービス 提供 の 差し止め など を 求める て いる た 訴訟 で 2006 年 1 月 19 日 東京 地方裁判所 で ヤマト 運輸 の 請求 を 棄却 する 判決 が 下す れる た 2004 年 の ローソン で の 郵便 小包 サービス ゆう パック の 受付 業務 開始 に 際する ヤマト 運輸 は 独占禁止法 に 違反 する 不当 だ 廉売 と する て 日本郵政 公社 を 相手 取る サービス 提供 の 差し止め など を 求める て いる た 朝日新聞 に よる ば 提訴 の 内容 は 2004 年 11 月 の ローソン で の ゆう パック の 受付 サービス 提供 の 開始 に 関連 する 租税 など の 優遇措置 を 受ける て いる 日本郵政 公社 が 配送 料金 運賃 など の 有利 だ 取引 条件 で ローソン で ゆう パック を 開始 する せる た の は 独占禁止法 の 不当廉売 に 当たる ヤマト 運輸 の 利益 を 侵害 する れる と する て ゆう パック サービス 提供 の 差し止め など を 求める て いる た もの 朝日新聞 に よる ば 判決 内容 は ヤマト 運輸 の 主張 を 全面的 だ 否定 する て おる 今後 の ゆう パック サービス の 拡大 に 弾み が つく もの と 考える られる 日本郵政 公社 は 公正 妥当 だ 判決 と の コメント を 出す た 一方 ヤマト 運輸 は 高等裁判所 へ の 控訴 など 今後 の 対応 に つく て は 検討 する と アナウンス する て いる\n",
      "\n",
      "11 月 5 日 の 各社 報道 に よる と 諫早湾 干拓 事業 は 諫早 海人 諫早湾 の 海 に 囲む れる 大洋 に 位置 する こと から 人身 売買 に よる 環境 問題 に 加える 環境 保護 に も 関心 が 向ける られる た 国 は 諫早湾 干拓 事業 後 も 諫早 海人 を 保護 する 目的 で 諫早 海原 の 生態系 に 影響 を 及ぼす 可能性 の ある 植物 の 栽培 に 力 を 入れる よう 要請 する て いる 諫早湾 の 生態系 の 保全 に 重要 だ 役割 を 果たす て くる た 諫早 漁業協同組合 の うち 約 30 団体 が 諫早湾 に 隣接 する 諫早湾 干拓地 に 諫早湾 干拓 計画 の 計画 に 関する 協定 に 基づく て 約 14万 m の 土地 の 確保 を 求める 諫早湾 干拓 計画 の 土地 争奪 の 会 を 結成 する た 組合 理事長 に は 諫早 漁業協同組合 長 だ 諫早 干拓地 に 漁業 協定 を 締結 する 2017 年 平成 29 年 2 月 5 日 に 干拓地 の 土地 購入 を 求める 請願書 を 諫早 海人 の 保護 に 向ける て 請願書 を 添える て 諫早湾 干拓地 に 対する て 諫早湾 干拓地 の 土地 争奪 の 会 と する て 活動 する て いる\n",
      "\n",
      "産経 新聞 中日 新聞 に よる と 2004 年 から 2005 年 まで この 大会 に よる 3 年 おき の 開催 を 2006 年 から 2 年 連続 で 実施 する た こと が ある また 2 月 9 日 の 中日 戦 日本ハム 対 阪神 に おく て 先発 投手 の 投手 コーチ だ た 岡田 彰布 が 13 日 夕方 12 時 前 に 体調不良 を 訴える た ため 14 日 の 1 ST 第 2 戦 4 月 2 日 で は 61 と 大勝 する 大 接戦 を 演ずる た が この こと を 後 に 岡田 は 岡田 の ファン が 応援 する て くれる ない た と コメント この 試合 から 野球 振興会 は 第 2 戦 の 開催 を 断念 する 2008 年 から 4 月 まで 第 1 戦 第 2 戦 が 屋内 試合 と なる た\n",
      "\n",
      "開催地 の リオデジャネイロ 市 に 対する て 大会 期間中 の リオデジャネイロ オリンピック に 関する 公式 発表 は ある た もの の リオデジャネイロ オリンピック 開催 に 向ける て 大会 会場 の 準備 が 整える られる ない 現状 が ある た その 結果 オリンピック の 公式 イベント と する て リオデジャネイロ の ホテル や 各種 ショップ で は リオデジャネイロ オリンピック 記念 パーティーリオデジャネイロオリンピック 応援 パーティー が 13 日 まで に オープン する 中 13 日 以降 に は リオデジャネイロ の ホテル で リオデジャネイロ オリンピック 応援 パーティー 5 日 から は リオデジャネイロ オリンピック の シンボル プロモーション が 開催 する れる よう だ なる た その 後 リオデジャネイロ 市 に は リオデジャネイロ オリンピック 公式 式典 が 18 日 開催 する れる リオデジャネイロ オリンピック 実施 に つく て の 公式 発表 が ある た が 19 日 の 大会 組織 委員会 は 大会 直前 に リオデジャネイロ 市長 から リオデジャネイロ 市 と 1 か月 の 予定 の リオデジャネイロ オリンピック 開催 中止 を 理由 の 1 つ に 掲げる こと を 検討 する て いる た と 発表 する た リオデジャネイロ オリンピック の 公式 試合 と なる た リオデジャネイロ 以外 の 大会 に も リオデジャネイロ オリンピック を テーマ と する た イベント が 多数 設置 する れる よう だ なる リオデジャネイロ オリンピック が 開催 する れる 2020 年 は その 第 1 の 都市 と いう こと で リオデジャネイロ オリンピック 関係者 や リオデジャネイロ オリンピック 参加 の アスリート ら が オリンピック イベント を 通す て リオデジャネイロ へ 行く の も 悪い ない と 思う れる て いる た\n",
      "\n",
      "毎日 新聞 時事 通信 に よる と 2006 年 2 月 13 日 に は グッドウィルグッゲンハイムアンハルク を 経営 する ジャーナリスト フリー ライター ジャーナリスト および 日本 政府 の 幹部 から 派遣 事業 の 管理 体制 が とても 曖昧 だ なる 可能性 が ある 派遣 事業 の 管理 体制 を 整える ない ば 派遣 事業 を 行う 社員 が 不当 だ 賃金 を 上げる られる 恐れ が ある など と 非難 が あがる た 2009 年 8 月 29 日 の NHK 総合 テレビジョンクロ ちゃん で この よう だ 事態 に 関する グッドウィル は 全く 悪 印象 が 付く ない もの だ は ない と 主張 する て いる た\n",
      "\n"
     ]
    }
   ],
   "source": [
    "def pre_process_text(text, stopwords, tokenizer_obj):\n",
    "    \"\"\"\n",
    "    Cleans the text of unnecessary features\n",
    "    :param text: sentence to clean\n",
    "    :param stopwords: list of very commonly used words\n",
    "    :param tokenizer_obj: SudachiPy tokenizer object\n",
    "    :return: cleaned string\n",
    "    \"\"\"\n",
    "    # One by one: (kanji), (hiragana and katakana), (western alphabet and numbers), (western alphabet and numbers\n",
    "    # except it's the off-looking japanese version), and unicode flag\n",
    "    pattern = re.compile(r'([一-龯]+)|([ぁ-んァ-ン]+)|([a-zA-Z0-9]+)|([ａ-ｚＡ-Ｚ０-９]+)|[ー+]', re.UNICODE)\n",
    "    text = ''.join([x.group() for x in re.finditer(pattern, text.lower().strip())])\n",
    "\n",
    "    # Tokenizes, converts to dictionary form, and doesn't add it if it's in the stopword list\n",
    "    lst_text = [m.dictionary_form() for m in tokenizer_obj.tokenize(text, mode) if m not in stopwords]\n",
    "\n",
    "    # Rejoin tokenized string\n",
    "    text = \" \".join(lst_text)\n",
    "    return text\n",
    "\n",
    "\n",
    "tokenizer_obj = dictionary.Dictionary().create()\n",
    "mode = tokenizer.Tokenizer.SplitMode.C\n",
    "lst_stopwords = requests.get(\n",
    "    'https://raw.githubusercontent.com/stopwords-iso/stopwords-ja/master/stopwords-ja.json').json()\n",
    "\n",
    "print(\"Starting cleaning phase, this may take a few minutes...\")\n",
    "data = [pre_process_text(i, lst_stopwords, tokenizer_obj) for i in data]\n",
    "sample(data, 5)"
   ],
   "metadata": {
    "collapsed": false,
    "pycharm": {
     "name": "#%%\n"
    }
   }
  },
  {
   "cell_type": "markdown",
   "source": [
    "## NLP technique\n",
    "\n",
    "Now we need to choose a technique to actually process this text, because after all, our neural network only accepts\n",
    "numbers, not japanese characters. Some examples of the current most popular techniques are Bag of Words, TF_IDF Scheme,\n",
    "BERT, word2vec.\n",
    "\n",
    "I've decided to use word2vec here, which maps words and/or phrases to vectors. word2vec comes with 2 options, Skip Gram\n",
    "and Continuous Bag of Words, which are essentially mirrored versions of each other. CBOW is trained to predict a single\n",
    "word from multiple context words, SG is trained to predict multiple words from a single context word.\n",
    "\n",
    "I used [this pre-trained skip-gram embedding](https://github.com/singletongue/WikiEntVec/releases) trained on wikipedia articles,\n",
    "which i got from [this comparison of Japanese embeddings](https://blog.hoxo-m.com/entry/2020/02/20/090000) since i\n",
    "felt like it fit with the vocabulary of our news articles.\n",
    "\n",
    "To load our embeddings i used Gensim, since it's the easiest to use."
   ],
   "metadata": {
    "collapsed": false,
    "pycharm": {
     "name": "#%% md\n"
    }
   }
  },
  {
   "cell_type": "code",
   "execution_count": 31,
   "outputs": [
    {
     "name": "stdout",
     "output_type": "stream",
     "text": [
      "Loading word embedding into Gensim, this may take a while...\n"
     ]
    }
   ],
   "source": [
    "print(\"Loading word embedding into Gensim, this may take a while...\")\n",
    "w2vec_model = KeyedVectors.load_word2vec_format(\"jawiki.all_vectors.300d.txt\", limit=10000,binary=False)"
   ],
   "metadata": {
    "collapsed": false,
    "pycharm": {
     "name": "#%%\n"
    }
   }
  },
  {
   "cell_type": "code",
   "execution_count": 32,
   "outputs": [
    {
     "name": "stdout",
     "output_type": "stream",
     "text": [
      "['で', 'と', 'て', 'し', '-', '「', '」', '・', '.', 'れ'] \n",
      "\n",
      "[ 1.50745809e-01 -1.59117103e-01 -4.79889847e-02  8.25271830e-02\n",
      "  3.26813519e-01 -1.77420840e-01 -1.40170418e-02 -1.93158299e-01\n",
      " -2.86553860e-01 -1.18869051e-01  9.68841910e-02  3.10680985e-01\n",
      " -9.59486663e-02 -1.57899737e-01  3.02210987e-01  3.35606337e-02\n",
      "  4.61426079e-02  1.01091631e-01 -1.13960445e-01  2.01161042e-01\n",
      " -4.29782659e-01  2.22274903e-02  5.95642626e-02  2.21371934e-01\n",
      " -1.19059915e-02  5.43840230e-02 -2.76306987e-01  2.91056007e-01\n",
      " -8.24816748e-02 -8.21325928e-02  1.51449248e-01 -8.47973302e-03\n",
      "  1.97664768e-01  1.57384992e-01 -2.68996358e-01 -2.75494635e-01\n",
      "  3.47562200e-05  4.58282903e-02 -6.37120754e-02 -3.17015231e-01\n",
      "  1.76230948e-02  3.62645499e-02 -2.17584088e-01 -7.74837360e-02\n",
      "  4.76833666e-03  2.22807467e-01  7.93994442e-02  2.93143779e-01\n",
      "  1.36083692e-01  4.92247231e-02 -4.02773544e-02  4.96344194e-02\n",
      "  1.39196917e-01  8.66619721e-02 -1.17746852e-01 -9.41588581e-02\n",
      " -2.10687369e-02  1.58734202e-01  5.61616682e-02 -1.16601475e-02\n",
      " -1.15479700e-01  1.01741143e-01 -2.07927208e-02 -8.89123827e-02\n",
      " -2.55734235e-01 -1.27663270e-01 -1.22176051e-01  1.67634174e-01\n",
      "  1.48548270e-02  1.72636271e-01  2.02486917e-01  1.05839945e-01\n",
      "  1.24188587e-02 -2.04997048e-01 -2.35928059e-01 -1.45909280e-01\n",
      " -5.64711168e-02  2.22135454e-01  8.45536366e-02 -1.94987282e-01\n",
      " -5.00584662e-01  1.69920653e-01  1.58077568e-01  2.60784868e-02\n",
      " -4.24227938e-02  6.10879920e-02  1.13986105e-01 -2.57253170e-01\n",
      "  1.69809073e-01 -2.81239390e-01  3.50588292e-01 -3.87002677e-01\n",
      " -2.40056485e-01  3.40927802e-02 -3.15139741e-01 -1.01274952e-01\n",
      "  7.39546642e-02 -7.07227662e-02 -6.16140068e-02  1.03463963e-01\n",
      "  1.13702960e-01  2.67347544e-01  3.55527639e-01 -1.83805466e-01\n",
      " -5.07206954e-02 -4.10299152e-02  1.21712402e-01 -2.14258477e-01\n",
      "  1.77935719e-01  1.96326971e-02 -2.44905595e-02 -3.15950215e-01\n",
      " -1.11273132e-01 -7.83695281e-02  3.45706046e-01 -8.44295993e-02\n",
      " -6.90455316e-03 -1.97161846e-02 -1.71905130e-01  1.86108910e-02\n",
      "  1.03812553e-01 -8.48294720e-02  1.22414619e-01  4.00100023e-01\n",
      " -3.70472193e-01  2.70534605e-02  6.66476265e-02  1.90875120e-02\n",
      " -2.67087787e-01 -3.16674709e-01  2.13360578e-01 -1.99112609e-01\n",
      "  6.72734678e-02 -2.24940017e-01 -1.27478942e-01  2.23498955e-01\n",
      "  4.00663078e-01 -1.19164452e-01  9.89444181e-02  5.18703878e-01\n",
      " -5.03863692e-02 -6.33987635e-02 -4.80591863e-01 -1.01411464e-02\n",
      "  1.03012659e-01 -1.30883425e-01  9.65923145e-02  7.34993070e-02\n",
      " -2.96747595e-01  1.13101443e-02 -6.15207665e-02  1.14118762e-01\n",
      "  4.05911058e-02 -2.06608862e-01  2.06194684e-01  2.50879467e-01\n",
      " -3.03736240e-01 -1.86056539e-01  2.09723532e-01 -6.60192072e-02\n",
      "  8.58778283e-02  3.58589292e-02 -1.28416240e-01 -3.12334269e-01\n",
      " -1.25548542e-01  2.35662341e-01  6.65218532e-02 -2.37651952e-02\n",
      " -1.39429957e-01 -1.76410377e-01 -9.76640508e-02  7.42846057e-02\n",
      " -1.00001074e-01  4.01865179e-03 -1.75139278e-01 -2.05044076e-01\n",
      " -1.03473529e-01  3.54426950e-02 -4.94886264e-02  1.26541555e-01\n",
      " -2.37273499e-01  2.21667409e-01 -1.58997253e-01  8.60249922e-02\n",
      "  2.13293687e-01  1.00618497e-01  2.93679744e-01  5.29577620e-02\n",
      " -3.19362342e-01 -3.33032250e-01  9.07977819e-02  5.59304431e-02\n",
      " -4.74096276e-02 -1.84409142e-01 -3.66057992e-01 -1.24761283e-01\n",
      "  6.13815859e-02  6.59494102e-02 -7.83943161e-02 -5.58283888e-02\n",
      "  2.68510222e-01  1.69696957e-01 -2.34568551e-01  1.99330926e-01\n",
      "  1.59442559e-01 -1.46781042e-01  8.57662261e-02 -6.03052415e-02\n",
      " -1.54857129e-01 -1.48498304e-02  1.15940690e-01  2.21815929e-01\n",
      "  3.42843196e-05 -1.37825653e-01 -1.08074779e-02  1.94159999e-01\n",
      "  6.38331249e-02  7.36654401e-02  1.67285368e-01  1.13195740e-01\n",
      "  1.29508495e-01 -1.22910388e-01 -1.29441500e-01  1.82806268e-01\n",
      " -7.97231272e-02  1.56412393e-01 -5.73629364e-02  9.20003057e-02\n",
      "  6.34317100e-02 -3.83994803e-02 -2.48170316e-01  2.19415911e-02\n",
      " -2.14483902e-01  1.26896128e-01  1.49160013e-01 -2.02542543e-01\n",
      "  1.04615286e-01  3.00790351e-02 -1.43593594e-01 -1.23166837e-01\n",
      " -9.54148173e-02  2.77369857e-01  3.51536185e-01 -1.57353476e-01\n",
      "  1.50701508e-03 -9.95137766e-02  2.29320273e-01  2.91549921e-01\n",
      " -6.69488013e-02 -6.55501382e-03 -2.04345837e-01 -1.87445492e-01\n",
      " -2.77952608e-02 -1.24527372e-01 -1.23143815e-01  5.96051700e-02\n",
      "  9.99210924e-02  1.26399696e-01 -5.23485802e-02 -4.32116874e-02\n",
      "  2.67489225e-01  2.67829984e-01  5.67240492e-02  1.04655623e-01\n",
      " -1.27380686e-02  1.87031962e-02  3.71855646e-02 -3.73401605e-02\n",
      " -1.36693344e-01 -2.14427803e-02  2.42016852e-01 -1.29209861e-01\n",
      "  1.10056624e-01 -1.04323603e-01 -1.63878556e-02  2.56301165e-01\n",
      " -7.53885414e-03  1.69679418e-01 -7.87950382e-02  9.93754193e-02\n",
      "  2.21230134e-01  7.89498240e-02  8.83466899e-02 -3.20108868e-02\n",
      "  2.89475769e-01  3.73085514e-02 -1.04512216e-03 -1.82482854e-01\n",
      "  7.16519505e-02  2.32742757e-01  1.74524993e-01 -3.30174752e-02\n",
      "  4.99356911e-02 -1.42078668e-01 -8.54642987e-02  1.40705958e-01\n",
      "  5.32144457e-02 -1.37967035e-01 -4.17831577e-02 -1.24792702e-01]\n"
     ]
    }
   ],
   "source": [
    "# Example of vocabulary in the w2vec model\n",
    "vocabulary = w2vec_model.index_to_key\n",
    "print(vocabulary[10:20], \"\\n\")\n",
    "\n",
    "# Example of how to access vector of a word\n",
    "print(w2vec_model['から'])\n"
   ],
   "metadata": {
    "collapsed": false,
    "pycharm": {
     "name": "#%%\n"
    }
   }
  },
  {
   "cell_type": "code",
   "execution_count": 33,
   "outputs": [
    {
     "name": "stdout",
     "output_type": "stream",
     "text": [
      "imported word2vec model has 10000 entries\n"
     ]
    }
   ],
   "source": [
    "weights = w2vec_model.vectors\n",
    "vocabulary_length = weights.shape[0]\n",
    "print(f\"imported word2vec model has {vocabulary_length} entries\")\n",
    "\n",
    "embedding_layer = Embedding(\n",
    "    input_dim=weights.shape[0],\n",
    "    output_dim=weights.shape[1],\n",
    "    weights=[weights],\n",
    "    trainable=False)"
   ],
   "metadata": {
    "collapsed": false,
    "pycharm": {
     "name": "#%%\n"
    }
   }
  },
  {
   "cell_type": "code",
   "execution_count": 34,
   "outputs": [],
   "source": [
    "X_train, X_test, y_train, y_test = train_test_split(data, labels, train_size=0.8, stratify=labels, shuffle=True)"
   ],
   "metadata": {
    "collapsed": false,
    "pycharm": {
     "name": "#%%\n"
    }
   }
  },
  {
   "cell_type": "code",
   "execution_count": 35,
   "outputs": [],
   "source": [
    "model = Sequential()\n",
    "model.add(embedding_layer)\n",
    "model.add(LSTM(1000))\n",
    "model.add(Dense(1, activation='sigmoid'))\n",
    "\n",
    "\n",
    "model.compile(optimizer='rmsprop',\n",
    "              loss='categorical_crossentropy')"
   ],
   "metadata": {
    "collapsed": false,
    "pycharm": {
     "name": "#%%\n"
    }
   }
  },
  {
   "cell_type": "code",
   "execution_count": 36,
   "outputs": [
    {
     "ename": "ValueError",
     "evalue": "Failed to find data adapter that can handle input: (<class 'list'> containing values of types {\"<class 'str'>\"}), <class 'pandas.core.series.Series'>",
     "output_type": "error",
     "traceback": [
      "\u001B[1;31m---------------------------------------------------------------------------\u001B[0m",
      "\u001B[1;31mValueError\u001B[0m                                Traceback (most recent call last)",
      "\u001B[1;32m<ipython-input-36-e4954b27005f>\u001B[0m in \u001B[0;36m<module>\u001B[1;34m\u001B[0m\n\u001B[1;32m----> 1\u001B[1;33m \u001B[0mmodel\u001B[0m\u001B[1;33m.\u001B[0m\u001B[0mfit\u001B[0m\u001B[1;33m(\u001B[0m\u001B[0mX_train\u001B[0m\u001B[1;33m,\u001B[0m \u001B[0my_train\u001B[0m\u001B[1;33m,\u001B[0m \u001B[0mepochs\u001B[0m\u001B[1;33m=\u001B[0m\u001B[1;36m10\u001B[0m\u001B[1;33m,\u001B[0m \u001B[0mbatch_size\u001B[0m\u001B[1;33m=\u001B[0m\u001B[1;36m128\u001B[0m\u001B[1;33m)\u001B[0m\u001B[1;33m\u001B[0m\u001B[1;33m\u001B[0m\u001B[0m\n\u001B[0m\u001B[0;32m      2\u001B[0m \u001B[1;33m\u001B[0m\u001B[0m\n",
      "\u001B[1;32ma:\\software\\coding projects\\aai\\japanesetextclassification\\venv\\lib\\site-packages\\tensorflow\\python\\keras\\engine\\training.py\u001B[0m in \u001B[0;36mfit\u001B[1;34m(self, x, y, batch_size, epochs, verbose, callbacks, validation_split, validation_data, shuffle, class_weight, sample_weight, initial_epoch, steps_per_epoch, validation_steps, validation_batch_size, validation_freq, max_queue_size, workers, use_multiprocessing)\u001B[0m\n\u001B[0;32m   1131\u001B[0m          \u001B[0mtraining_utils\u001B[0m\u001B[1;33m.\u001B[0m\u001B[0mRespectCompiledTrainableState\u001B[0m\u001B[1;33m(\u001B[0m\u001B[0mself\u001B[0m\u001B[1;33m)\u001B[0m\u001B[1;33m:\u001B[0m\u001B[1;33m\u001B[0m\u001B[1;33m\u001B[0m\u001B[0m\n\u001B[0;32m   1132\u001B[0m       \u001B[1;31m# Creates a `tf.data.Dataset` and handles batch and epoch iteration.\u001B[0m\u001B[1;33m\u001B[0m\u001B[1;33m\u001B[0m\u001B[1;33m\u001B[0m\u001B[0m\n\u001B[1;32m-> 1133\u001B[1;33m       data_handler = data_adapter.get_data_handler(\n\u001B[0m\u001B[0;32m   1134\u001B[0m           \u001B[0mx\u001B[0m\u001B[1;33m=\u001B[0m\u001B[0mx\u001B[0m\u001B[1;33m,\u001B[0m\u001B[1;33m\u001B[0m\u001B[1;33m\u001B[0m\u001B[0m\n\u001B[0;32m   1135\u001B[0m           \u001B[0my\u001B[0m\u001B[1;33m=\u001B[0m\u001B[0my\u001B[0m\u001B[1;33m,\u001B[0m\u001B[1;33m\u001B[0m\u001B[1;33m\u001B[0m\u001B[0m\n",
      "\u001B[1;32ma:\\software\\coding projects\\aai\\japanesetextclassification\\venv\\lib\\site-packages\\tensorflow\\python\\keras\\engine\\data_adapter.py\u001B[0m in \u001B[0;36mget_data_handler\u001B[1;34m(*args, **kwargs)\u001B[0m\n\u001B[0;32m   1362\u001B[0m   \u001B[1;32mif\u001B[0m \u001B[0mgetattr\u001B[0m\u001B[1;33m(\u001B[0m\u001B[0mkwargs\u001B[0m\u001B[1;33m[\u001B[0m\u001B[1;34m\"model\"\u001B[0m\u001B[1;33m]\u001B[0m\u001B[1;33m,\u001B[0m \u001B[1;34m\"_cluster_coordinator\"\u001B[0m\u001B[1;33m,\u001B[0m \u001B[1;32mNone\u001B[0m\u001B[1;33m)\u001B[0m\u001B[1;33m:\u001B[0m\u001B[1;33m\u001B[0m\u001B[1;33m\u001B[0m\u001B[0m\n\u001B[0;32m   1363\u001B[0m     \u001B[1;32mreturn\u001B[0m \u001B[0m_ClusterCoordinatorDataHandler\u001B[0m\u001B[1;33m(\u001B[0m\u001B[1;33m*\u001B[0m\u001B[0margs\u001B[0m\u001B[1;33m,\u001B[0m \u001B[1;33m**\u001B[0m\u001B[0mkwargs\u001B[0m\u001B[1;33m)\u001B[0m\u001B[1;33m\u001B[0m\u001B[1;33m\u001B[0m\u001B[0m\n\u001B[1;32m-> 1364\u001B[1;33m   \u001B[1;32mreturn\u001B[0m \u001B[0mDataHandler\u001B[0m\u001B[1;33m(\u001B[0m\u001B[1;33m*\u001B[0m\u001B[0margs\u001B[0m\u001B[1;33m,\u001B[0m \u001B[1;33m**\u001B[0m\u001B[0mkwargs\u001B[0m\u001B[1;33m)\u001B[0m\u001B[1;33m\u001B[0m\u001B[1;33m\u001B[0m\u001B[0m\n\u001B[0m\u001B[0;32m   1365\u001B[0m \u001B[1;33m\u001B[0m\u001B[0m\n\u001B[0;32m   1366\u001B[0m \u001B[1;33m\u001B[0m\u001B[0m\n",
      "\u001B[1;32ma:\\software\\coding projects\\aai\\japanesetextclassification\\venv\\lib\\site-packages\\tensorflow\\python\\keras\\engine\\data_adapter.py\u001B[0m in \u001B[0;36m__init__\u001B[1;34m(self, x, y, sample_weight, batch_size, steps_per_epoch, initial_epoch, epochs, shuffle, class_weight, max_queue_size, workers, use_multiprocessing, model, steps_per_execution, distribute)\u001B[0m\n\u001B[0;32m   1150\u001B[0m       \u001B[0mself\u001B[0m\u001B[1;33m.\u001B[0m\u001B[0m_steps_per_execution_value\u001B[0m \u001B[1;33m=\u001B[0m \u001B[0msteps_per_execution\u001B[0m\u001B[1;33m.\u001B[0m\u001B[0mnumpy\u001B[0m\u001B[1;33m(\u001B[0m\u001B[1;33m)\u001B[0m\u001B[1;33m.\u001B[0m\u001B[0mitem\u001B[0m\u001B[1;33m(\u001B[0m\u001B[1;33m)\u001B[0m\u001B[1;33m\u001B[0m\u001B[1;33m\u001B[0m\u001B[0m\n\u001B[0;32m   1151\u001B[0m \u001B[1;33m\u001B[0m\u001B[0m\n\u001B[1;32m-> 1152\u001B[1;33m     \u001B[0madapter_cls\u001B[0m \u001B[1;33m=\u001B[0m \u001B[0mselect_data_adapter\u001B[0m\u001B[1;33m(\u001B[0m\u001B[0mx\u001B[0m\u001B[1;33m,\u001B[0m \u001B[0my\u001B[0m\u001B[1;33m)\u001B[0m\u001B[1;33m\u001B[0m\u001B[1;33m\u001B[0m\u001B[0m\n\u001B[0m\u001B[0;32m   1153\u001B[0m     \u001B[0mself\u001B[0m\u001B[1;33m.\u001B[0m\u001B[0m_verify_data_adapter_compatibility\u001B[0m\u001B[1;33m(\u001B[0m\u001B[0madapter_cls\u001B[0m\u001B[1;33m)\u001B[0m\u001B[1;33m\u001B[0m\u001B[1;33m\u001B[0m\u001B[0m\n\u001B[0;32m   1154\u001B[0m     self._adapter = adapter_cls(\n",
      "\u001B[1;32ma:\\software\\coding projects\\aai\\japanesetextclassification\\venv\\lib\\site-packages\\tensorflow\\python\\keras\\engine\\data_adapter.py\u001B[0m in \u001B[0;36mselect_data_adapter\u001B[1;34m(x, y)\u001B[0m\n\u001B[0;32m    989\u001B[0m   \u001B[1;32mif\u001B[0m \u001B[1;32mnot\u001B[0m \u001B[0madapter_cls\u001B[0m\u001B[1;33m:\u001B[0m\u001B[1;33m\u001B[0m\u001B[1;33m\u001B[0m\u001B[0m\n\u001B[0;32m    990\u001B[0m     \u001B[1;31m# TODO(scottzhu): This should be a less implementation-specific error.\u001B[0m\u001B[1;33m\u001B[0m\u001B[1;33m\u001B[0m\u001B[1;33m\u001B[0m\u001B[0m\n\u001B[1;32m--> 991\u001B[1;33m     raise ValueError(\n\u001B[0m\u001B[0;32m    992\u001B[0m         \u001B[1;34m\"Failed to find data adapter that can handle \"\u001B[0m\u001B[1;33m\u001B[0m\u001B[1;33m\u001B[0m\u001B[0m\n\u001B[0;32m    993\u001B[0m         \"input: {}, {}\".format(\n",
      "\u001B[1;31mValueError\u001B[0m: Failed to find data adapter that can handle input: (<class 'list'> containing values of types {\"<class 'str'>\"}), <class 'pandas.core.series.Series'>"
     ]
    }
   ],
   "source": [
    "# TODO ValueError: Failed to find data adapter that can handle input: (<class 'list'> containing values of types {\"<class 'str'>\"}), <class 'pandas.core.series.Series'>\n",
    "model.fit(X_train, y_train, epochs=10, batch_size=128)"
   ],
   "metadata": {
    "collapsed": false,
    "pycharm": {
     "name": "#%%\n"
    }
   }
  },
  {
   "cell_type": "markdown",
   "source": [
    "## Conclusion\n",
    "\n",
    "Package wise, we still have a long way to go. The Japanese equivalents of the NLP packages are more underveloped,\n",
    "less reliable, and generally slower too. This can be mostly attributed to the language being difficult, but it's\n",
    "something you have to keep in mind while working with Japanese text. Maybe in a few years the tools will be at a good\n",
    "level.\n"
   ],
   "metadata": {
    "collapsed": false,
    "pycharm": {
     "name": "#%% md\n"
    }
   }
  },
  {
   "cell_type": "markdown",
   "source": [
    "## References\n",
    "\n",
    "[Preprocessing Methods and Tools in Modelling Japanese for Text Classification](https://www.researchgate.net/publication/335337209_Preprocessing_Methods_and_Tools_in_Modelling_Japanese_for_Text_Classification)\n",
    "Paper detailing tools for Japanese NLP analysis. A few years old, but still relevant as of current date.\n",
    "\n",
    "[nlp-recipes-ja](https://github.com/upura/nlp-recipes-ja)\n",
    "Github repository containing a ton of samples for Japanese text analysis in Python.\n",
    "\n",
    "\n",
    "[Migrating from Gensim 3.0 to 4.0](https://github.com/RaRe-Technologies/gensim/wiki/Migrating-from-Gensim-3.x-to-4)\n",
    "Gensim recently upgraded to 4.0 release, which contains code-breaking API changes, and most recent material on gensim is\n",
    "still using older versions.\n",
    "\n",
    "[Gensim Keras embedding layer example](https://github.com/RaRe-Technologies/gensim/wiki/Using-Gensim-Embeddings-with-Keras-and-Tensorflow)\n",
    "How to create a Keras embedding layer with a Gensim model"
   ],
   "metadata": {
    "collapsed": false,
    "pycharm": {
     "name": "#%% md\n"
    }
   }
  }
 ],
 "metadata": {
  "kernelspec": {
   "display_name": "Python 3",
   "language": "python",
   "name": "python3"
  },
  "language_info": {
   "codemirror_mode": {
    "name": "ipython",
    "version": 2
   },
   "file_extension": ".py",
   "mimetype": "text/x-python",
   "name": "python",
   "nbconvert_exporter": "python",
   "pygments_lexer": "ipython2",
   "version": "2.7.6"
  }
 },
 "nbformat": 4,
 "nbformat_minor": 0
}